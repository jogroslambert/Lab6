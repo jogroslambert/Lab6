{
 "cells": [
  {
   "cell_type": "markdown",
   "metadata": {},
   "source": [
    "bowtie2 -p 4 --very-fast --no-unal -x /data/hg19/hg19 \\ -U /data/lab6/illumina_reads.fastq -S output.sam --un unaligned.fastq\n",
    "\n",
    "Used bowtie2 database containing the human genome as the database and the illumina reads as the input reads. The unaligned.fastq will contain the reads that could not align, so normally that should be anything that isn't from a human genome, so the unaligned.fastq file should contain reads that only belong to the S. oneidensis genome.\n",
    "\n",
    "In total, 96335 reads aligned, which is 8.57% of all the reads.\n",
    "\n",
    "output:\n",
    "1124714 reads; of these:\n",
    "  1124714 (100.00%) were unpaired; of these:\n",
    "    1028379 (91.43%) aligned 0 times\n",
    "    87274 (7.76%) aligned exactly 1 time\n",
    "    9061 (0.81%) aligned >1 times\n",
    "8.57% overall alignment rate\n"
   ]
  },
  {
   "cell_type": "markdown",
   "metadata": {},
   "source": [
    "bowtie2 -p 4 --very-fast --no-unal -x/data/lab6/shewanella_oneidensis_mr-1 \\ -U unaligned.fastq -S output.sam --un unaligned2.fastq\n",
    "\n",
    "Now the unaligned2.fastq file should contain all the reads that did aligned neither to the human genome nor the S. oneidensis genome. 29.13% of my genomic library did not align to the reference genome.\n",
    "\n",
    "output:\n",
    "1028379 reads; of these:\n",
    "  1028379 (100.00%) were unpaired; of these:\n",
    "    299560 (29.13%) aligned 0 times\n",
    "    687571 (66.86%) aligned exactly 1 time\n",
    "    41248 (4.01%) aligned >1 times\n",
    "70.87% overall alignment rate"
   ]
  },
  {
   "cell_type": "markdown",
   "metadata": {},
   "source": [
    "bowtie2 -p 4 --very-sensitive --no-unal -x/data/lab6/shewanella_oneidensis_mr-1 \\ -U Lab6/unaligned.fastq -S Lab6/output2.sam --un unaligned4.fastq\n",
    "\n",
    "Using the very sensitive parameter, slightly increases the alignment rate to 71.01%\n",
    "\n",
    "output:\n",
    "1028379 reads; of these:\n",
    "  1028379 (100.00%) were unpaired; of these:\n",
    "    298112 (28.99%) aligned 0 times\n",
    "    688180 (66.92%) aligned exactly 1 time\n",
    "    42087 (4.09%) aligned >1 times\n",
    "71.01% overall alignment rate\n"
   ]
  }
 ],
 "metadata": {
  "kernelspec": {
   "display_name": "Python 3",
   "language": "python",
   "name": "python3"
  },
  "language_info": {
   "codemirror_mode": {
    "name": "ipython",
    "version": 3
   },
   "file_extension": ".py",
   "mimetype": "text/x-python",
   "name": "python",
   "nbconvert_exporter": "python",
   "pygments_lexer": "ipython3",
   "version": "3.6.6"
  }
 },
 "nbformat": 4,
 "nbformat_minor": 2
}
